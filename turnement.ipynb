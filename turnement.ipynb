{
 "cells": [
  {
   "cell_type": "code",
   "execution_count": null,
   "metadata": {
    "collapsed": true,
    "ExecuteTime": {
     "start_time": "2023-04-19T12:23:41.997769Z",
     "end_time": "2023-04-19T12:23:42.409281Z"
    },
    "pycharm": {
     "is_executing": true
    }
   },
   "outputs": [],
   "source": [
    "import pandas as pd\n"
   ]
  },
  {
   "cell_type": "code",
   "execution_count": 3,
   "outputs": [
    {
     "data": {
      "text/plain": "    Unnamed: 0          AgentA  AgentAUtility          AgentB  AgentBUtility  \\\n0            0     RandomAgent       0.600026    ChatGptAgent       0.740710   \n1            1     RandomAgent       0.600026     HybridAgent       0.740710   \n2            2     RandomAgent       0.679729  AnacondotAgent       0.423883   \n3            3    ChatGptAgent       0.000000     RandomAgent       0.000000   \n4            4    ChatGptAgent       0.000000     HybridAgent       0.000000   \n5            5    ChatGptAgent       0.000000  AnacondotAgent       0.000000   \n6            6     HybridAgent       0.776028     RandomAgent       0.115134   \n7            7     HybridAgent       0.738991    ChatGptAgent       0.421955   \n8            8     HybridAgent       0.872345  AnacondotAgent       0.556699   \n9            9  AnacondotAgent       0.792138     RandomAgent       0.266442   \n10          10  AnacondotAgent       0.600026    ChatGptAgent       0.740710   \n11          11  AnacondotAgent       0.398013     HybridAgent       0.875217   \n\n       Result  \n0   Agreement  \n1   Agreement  \n2   Agreement  \n3       Error  \n4       Error  \n5       Error  \n6   Agreement  \n7   Agreement  \n8   Agreement  \n9   Agreement  \n10  Agreement  \n11  Agreement  ",
      "text/html": "<div>\n<style scoped>\n    .dataframe tbody tr th:only-of-type {\n        vertical-align: middle;\n    }\n\n    .dataframe tbody tr th {\n        vertical-align: top;\n    }\n\n    .dataframe thead th {\n        text-align: right;\n    }\n</style>\n<table border=\"1\" class=\"dataframe\">\n  <thead>\n    <tr style=\"text-align: right;\">\n      <th></th>\n      <th>Unnamed: 0</th>\n      <th>AgentA</th>\n      <th>AgentAUtility</th>\n      <th>AgentB</th>\n      <th>AgentBUtility</th>\n      <th>Result</th>\n    </tr>\n  </thead>\n  <tbody>\n    <tr>\n      <th>0</th>\n      <td>0</td>\n      <td>RandomAgent</td>\n      <td>0.600026</td>\n      <td>ChatGptAgent</td>\n      <td>0.740710</td>\n      <td>Agreement</td>\n    </tr>\n    <tr>\n      <th>1</th>\n      <td>1</td>\n      <td>RandomAgent</td>\n      <td>0.600026</td>\n      <td>HybridAgent</td>\n      <td>0.740710</td>\n      <td>Agreement</td>\n    </tr>\n    <tr>\n      <th>2</th>\n      <td>2</td>\n      <td>RandomAgent</td>\n      <td>0.679729</td>\n      <td>AnacondotAgent</td>\n      <td>0.423883</td>\n      <td>Agreement</td>\n    </tr>\n    <tr>\n      <th>3</th>\n      <td>3</td>\n      <td>ChatGptAgent</td>\n      <td>0.000000</td>\n      <td>RandomAgent</td>\n      <td>0.000000</td>\n      <td>Error</td>\n    </tr>\n    <tr>\n      <th>4</th>\n      <td>4</td>\n      <td>ChatGptAgent</td>\n      <td>0.000000</td>\n      <td>HybridAgent</td>\n      <td>0.000000</td>\n      <td>Error</td>\n    </tr>\n    <tr>\n      <th>5</th>\n      <td>5</td>\n      <td>ChatGptAgent</td>\n      <td>0.000000</td>\n      <td>AnacondotAgent</td>\n      <td>0.000000</td>\n      <td>Error</td>\n    </tr>\n    <tr>\n      <th>6</th>\n      <td>6</td>\n      <td>HybridAgent</td>\n      <td>0.776028</td>\n      <td>RandomAgent</td>\n      <td>0.115134</td>\n      <td>Agreement</td>\n    </tr>\n    <tr>\n      <th>7</th>\n      <td>7</td>\n      <td>HybridAgent</td>\n      <td>0.738991</td>\n      <td>ChatGptAgent</td>\n      <td>0.421955</td>\n      <td>Agreement</td>\n    </tr>\n    <tr>\n      <th>8</th>\n      <td>8</td>\n      <td>HybridAgent</td>\n      <td>0.872345</td>\n      <td>AnacondotAgent</td>\n      <td>0.556699</td>\n      <td>Agreement</td>\n    </tr>\n    <tr>\n      <th>9</th>\n      <td>9</td>\n      <td>AnacondotAgent</td>\n      <td>0.792138</td>\n      <td>RandomAgent</td>\n      <td>0.266442</td>\n      <td>Agreement</td>\n    </tr>\n    <tr>\n      <th>10</th>\n      <td>10</td>\n      <td>AnacondotAgent</td>\n      <td>0.600026</td>\n      <td>ChatGptAgent</td>\n      <td>0.740710</td>\n      <td>Agreement</td>\n    </tr>\n    <tr>\n      <th>11</th>\n      <td>11</td>\n      <td>AnacondotAgent</td>\n      <td>0.398013</td>\n      <td>HybridAgent</td>\n      <td>0.875217</td>\n      <td>Agreement</td>\n    </tr>\n  </tbody>\n</table>\n</div>"
     },
     "execution_count": 3,
     "metadata": {},
     "output_type": "execute_result"
    }
   ],
   "source": [
    "df = pd.read_csv(\"results/20230419-121955/results.csv\", delimiter= ';')\n",
    "df"
   ],
   "metadata": {
    "collapsed": false,
    "ExecuteTime": {
     "start_time": "2023-04-19T12:24:54.918097Z",
     "end_time": "2023-04-19T12:24:54.935044Z"
    }
   }
  },
  {
   "cell_type": "code",
   "execution_count": 5,
   "outputs": [
    {
     "data": {
      "text/plain": "   Unnamed: 0               Agent  Utility Mean  Utility Stdev  \\\n0           0   DreamTeam109Agent      0.610939       0.455764   \n1           1         RandomAgent      0.365002       0.280686   \n2           2        ChatGptAgent      0.661806       0.284748   \n3           3         StupidAgent      0.254640       0.053464   \n4           4      AnacondotAgent      0.542969       0.215102   \n5           5      HardlinerAgent      0.634813       0.473206   \n6           6  TimeDependentAgent      0.588170       0.241877   \n7           7         HybridAgent      0.556666       0.423697   \n\n   Opp. Utility Mean  Opp. Utility Stdev  Nash Product Mean  \\\n0           0.228667            0.228667           0.217143   \n1           0.559239            0.559239           0.219788   \n2           0.633017            0.633017           0.346592   \n3           0.944023            0.944023           0.235698   \n4           0.734661            0.734661           0.348984   \n5           0.157241            0.157241           0.155132   \n6           0.695702            0.695702           0.342848   \n7           0.262456            0.262456           0.221996   \n\n   Nash Product Stdev  Social Welfare Mean  Social Welfare Stdev  \\\n0            0.175235             0.839606              0.629738   \n1            0.133330             0.924241              0.491628   \n2            0.096767             1.294823              0.102700   \n3            0.027974             1.198663              0.061522   \n4            0.092426             1.277629              0.115409   \n5            0.118785             0.792054              0.590869   \n6            0.086749             1.283872              0.104384   \n7            0.188327             0.819122              0.618144   \n\n   Agreement Utility Mean  Agreement Utility Stdev  \\\n0                0.950349                 0.023733   \n1                0.464549                 0.232438   \n2                0.661806                 0.284748   \n3                0.254640                 0.053464   \n4                0.542969                 0.215102   \n5                0.987487                 0.008090   \n6                0.588170                 0.241877   \n7                0.865925                 0.107039   \n\n   Agreement Opp. Utility Mean  Agreement Opp. Utility Stdev  Count  \\\n0                     0.355704                      0.087459     14   \n1                     0.711758                      0.242717     14   \n2                     0.633017                      0.272307     14   \n3                     0.944023                      0.101503     14   \n4                     0.734661                      0.258607     14   \n5                     0.244597                      0.036163     14   \n6                     0.695702                      0.291681     14   \n7                     0.408265                      0.139568     14   \n\n   Agreement  AgreementRate  Error  Failed  \n0          9       0.642857      0       5  \n1         11       0.785714      0       3  \n2         14       1.000000      0       0  \n3         14       1.000000      0       0  \n4         14       1.000000      0       0  \n5          9       0.642857      0       5  \n6         14       1.000000      0       0  \n7          9       0.642857      0       5  ",
      "text/html": "<div>\n<style scoped>\n    .dataframe tbody tr th:only-of-type {\n        vertical-align: middle;\n    }\n\n    .dataframe tbody tr th {\n        vertical-align: top;\n    }\n\n    .dataframe thead th {\n        text-align: right;\n    }\n</style>\n<table border=\"1\" class=\"dataframe\">\n  <thead>\n    <tr style=\"text-align: right;\">\n      <th></th>\n      <th>Unnamed: 0</th>\n      <th>Agent</th>\n      <th>Utility Mean</th>\n      <th>Utility Stdev</th>\n      <th>Opp. Utility Mean</th>\n      <th>Opp. Utility Stdev</th>\n      <th>Nash Product Mean</th>\n      <th>Nash Product Stdev</th>\n      <th>Social Welfare Mean</th>\n      <th>Social Welfare Stdev</th>\n      <th>Agreement Utility Mean</th>\n      <th>Agreement Utility Stdev</th>\n      <th>Agreement Opp. Utility Mean</th>\n      <th>Agreement Opp. Utility Stdev</th>\n      <th>Count</th>\n      <th>Agreement</th>\n      <th>AgreementRate</th>\n      <th>Error</th>\n      <th>Failed</th>\n    </tr>\n  </thead>\n  <tbody>\n    <tr>\n      <th>0</th>\n      <td>0</td>\n      <td>DreamTeam109Agent</td>\n      <td>0.610939</td>\n      <td>0.455764</td>\n      <td>0.228667</td>\n      <td>0.228667</td>\n      <td>0.217143</td>\n      <td>0.175235</td>\n      <td>0.839606</td>\n      <td>0.629738</td>\n      <td>0.950349</td>\n      <td>0.023733</td>\n      <td>0.355704</td>\n      <td>0.087459</td>\n      <td>14</td>\n      <td>9</td>\n      <td>0.642857</td>\n      <td>0</td>\n      <td>5</td>\n    </tr>\n    <tr>\n      <th>1</th>\n      <td>1</td>\n      <td>RandomAgent</td>\n      <td>0.365002</td>\n      <td>0.280686</td>\n      <td>0.559239</td>\n      <td>0.559239</td>\n      <td>0.219788</td>\n      <td>0.133330</td>\n      <td>0.924241</td>\n      <td>0.491628</td>\n      <td>0.464549</td>\n      <td>0.232438</td>\n      <td>0.711758</td>\n      <td>0.242717</td>\n      <td>14</td>\n      <td>11</td>\n      <td>0.785714</td>\n      <td>0</td>\n      <td>3</td>\n    </tr>\n    <tr>\n      <th>2</th>\n      <td>2</td>\n      <td>ChatGptAgent</td>\n      <td>0.661806</td>\n      <td>0.284748</td>\n      <td>0.633017</td>\n      <td>0.633017</td>\n      <td>0.346592</td>\n      <td>0.096767</td>\n      <td>1.294823</td>\n      <td>0.102700</td>\n      <td>0.661806</td>\n      <td>0.284748</td>\n      <td>0.633017</td>\n      <td>0.272307</td>\n      <td>14</td>\n      <td>14</td>\n      <td>1.000000</td>\n      <td>0</td>\n      <td>0</td>\n    </tr>\n    <tr>\n      <th>3</th>\n      <td>3</td>\n      <td>StupidAgent</td>\n      <td>0.254640</td>\n      <td>0.053464</td>\n      <td>0.944023</td>\n      <td>0.944023</td>\n      <td>0.235698</td>\n      <td>0.027974</td>\n      <td>1.198663</td>\n      <td>0.061522</td>\n      <td>0.254640</td>\n      <td>0.053464</td>\n      <td>0.944023</td>\n      <td>0.101503</td>\n      <td>14</td>\n      <td>14</td>\n      <td>1.000000</td>\n      <td>0</td>\n      <td>0</td>\n    </tr>\n    <tr>\n      <th>4</th>\n      <td>4</td>\n      <td>AnacondotAgent</td>\n      <td>0.542969</td>\n      <td>0.215102</td>\n      <td>0.734661</td>\n      <td>0.734661</td>\n      <td>0.348984</td>\n      <td>0.092426</td>\n      <td>1.277629</td>\n      <td>0.115409</td>\n      <td>0.542969</td>\n      <td>0.215102</td>\n      <td>0.734661</td>\n      <td>0.258607</td>\n      <td>14</td>\n      <td>14</td>\n      <td>1.000000</td>\n      <td>0</td>\n      <td>0</td>\n    </tr>\n    <tr>\n      <th>5</th>\n      <td>5</td>\n      <td>HardlinerAgent</td>\n      <td>0.634813</td>\n      <td>0.473206</td>\n      <td>0.157241</td>\n      <td>0.157241</td>\n      <td>0.155132</td>\n      <td>0.118785</td>\n      <td>0.792054</td>\n      <td>0.590869</td>\n      <td>0.987487</td>\n      <td>0.008090</td>\n      <td>0.244597</td>\n      <td>0.036163</td>\n      <td>14</td>\n      <td>9</td>\n      <td>0.642857</td>\n      <td>0</td>\n      <td>5</td>\n    </tr>\n    <tr>\n      <th>6</th>\n      <td>6</td>\n      <td>TimeDependentAgent</td>\n      <td>0.588170</td>\n      <td>0.241877</td>\n      <td>0.695702</td>\n      <td>0.695702</td>\n      <td>0.342848</td>\n      <td>0.086749</td>\n      <td>1.283872</td>\n      <td>0.104384</td>\n      <td>0.588170</td>\n      <td>0.241877</td>\n      <td>0.695702</td>\n      <td>0.291681</td>\n      <td>14</td>\n      <td>14</td>\n      <td>1.000000</td>\n      <td>0</td>\n      <td>0</td>\n    </tr>\n    <tr>\n      <th>7</th>\n      <td>7</td>\n      <td>HybridAgent</td>\n      <td>0.556666</td>\n      <td>0.423697</td>\n      <td>0.262456</td>\n      <td>0.262456</td>\n      <td>0.221996</td>\n      <td>0.188327</td>\n      <td>0.819122</td>\n      <td>0.618144</td>\n      <td>0.865925</td>\n      <td>0.107039</td>\n      <td>0.408265</td>\n      <td>0.139568</td>\n      <td>14</td>\n      <td>9</td>\n      <td>0.642857</td>\n      <td>0</td>\n      <td>5</td>\n    </tr>\n  </tbody>\n</table>\n</div>"
     },
     "execution_count": 5,
     "metadata": {},
     "output_type": "execute_result"
    }
   ],
   "source": [
    "df = pd.read_csv(\"results/20230419-133822/summary.csv\", delimiter= ';')\n",
    "df"
   ],
   "metadata": {
    "collapsed": false,
    "ExecuteTime": {
     "start_time": "2023-04-19T13:44:23.999994Z",
     "end_time": "2023-04-19T13:44:24.018951Z"
    }
   }
  },
  {
   "cell_type": "code",
   "execution_count": null,
   "outputs": [],
   "source": [],
   "metadata": {
    "collapsed": false
   }
  }
 ],
 "metadata": {
  "kernelspec": {
   "display_name": "Python 3",
   "language": "python",
   "name": "python3"
  },
  "language_info": {
   "codemirror_mode": {
    "name": "ipython",
    "version": 2
   },
   "file_extension": ".py",
   "mimetype": "text/x-python",
   "name": "python",
   "nbconvert_exporter": "python",
   "pygments_lexer": "ipython2",
   "version": "2.7.6"
  }
 },
 "nbformat": 4,
 "nbformat_minor": 0
}
